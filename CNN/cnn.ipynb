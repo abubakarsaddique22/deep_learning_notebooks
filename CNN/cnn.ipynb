{
 "cells": [
  {
   "cell_type": "markdown",
   "id": "99f26fd8",
   "metadata": {},
   "source": [
    "Key Components in This CNN\n",
    "\n",
    "- Conv2D → Convolution layer with filters and kernels.\n",
    "- Padding='same' → Ensures output size remains same after convolution.\n",
    "- ReLU Activation → Adds non-linearity for better learning.\n",
    "- MaxPooling2D → Downsamples the feature maps.\n",
    "- BatchNormalization → Stabilizes and speeds up training.\n",
    "- Dropout → Reduces overfitting.\n",
    "- Dense Layers → Fully connected layers for classification.\n",
    "- Softmax → Converts final output into probabilities."
   ]
  },
  {
   "cell_type": "code",
   "execution_count": null,
   "id": "f3bb0a4b",
   "metadata": {
    "vscode": {
     "languageId": "plaintext"
    }
   },
   "outputs": [],
   "source": [
    "import tensorflow as tf\n",
    "from tensorflow.keras import layers, models\n",
    "\n",
    "# Define the CNN model\n",
    "def create_cnn_model(input_shape=(32, 32, 3), num_classes=10):\n",
    "    model = models.Sequential()\n",
    "\n",
    "    # 1️⃣ First Convolutional Block\n",
    "    model.add(layers.Conv2D(32, (3, 3), padding='same', activation='relu', input_shape=input_shape))\n",
    "    model.add(layers.BatchNormalization())  # Batch Normalization\n",
    "    model.add(layers.MaxPooling2D((2, 2), padding='same'))  # Max Pooling\n",
    "    model.add(layers.Dropout(0.25))  # Dropout to prevent overfitting\n",
    "\n",
    "    # 2️⃣ Second Convolutional Block\n",
    "    model.add(layers.Conv2D(64, (3, 3), padding='same', activation='relu'))\n",
    "    model.add(layers.BatchNormalization())\n",
    "    model.add(layers.MaxPooling2D((2, 2), padding='same'))\n",
    "    model.add(layers.Dropout(0.25))\n",
    "\n",
    "    # 3️⃣ Third Convolutional Block\n",
    "    model.add(layers.Conv2D(128, (3, 3), padding='same', activation='relu'))\n",
    "    model.add(layers.BatchNormalization())\n",
    "    model.add(layers.MaxPooling2D((2, 2), padding='same'))\n",
    "    model.add(layers.Dropout(0.25))\n",
    "\n",
    "    # 4️⃣ Flatten + Fully Connected Layers\n",
    "    model.add(layers.Flatten())\n",
    "    model.add(layers.Dense(256, activation='relu'))\n",
    "    model.add(layers.BatchNormalization())\n",
    "    model.add(layers.Dropout(0.5))\n",
    "\n",
    "    # 5️⃣ Output Layer\n",
    "    model.add(layers.Dense(num_classes, activation='softmax'))  # Multi-class classification\n",
    "\n",
    "    # Compile model\n",
    "    model.compile(optimizer='adam',\n",
    "                  loss='sparse_categorical_crossentropy',\n",
    "                  metrics=['accuracy'])\n",
    "    \n",
    "    return model\n",
    "\n",
    "\n",
    "# Create the model\n",
    "cnn_model = create_cnn_model()\n",
    "\n",
    "# Model summary\n",
    "cnn_model.summary()\n"
   ]
  }
 ],
 "metadata": {
  "language_info": {
   "name": "python"
  }
 },
 "nbformat": 4,
 "nbformat_minor": 5
}
